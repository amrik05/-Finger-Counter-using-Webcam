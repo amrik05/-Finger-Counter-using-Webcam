{
 "cells": [
  {
   "cell_type": "code",
   "execution_count": 32,
   "id": "4ba6d765-cfb3-40be-b6e5-db661c8f5bd3",
   "metadata": {
    "tags": []
   },
   "outputs": [],
   "source": [
    "import tensorflow as tf\n",
    "import pandas as pd\n",
    "import numpy as np\n",
    "from tensorflow.keras.models import Sequential\n",
    "from tensorflow.keras.layers import Flatten, Conv2D, Dense, Dropout, MaxPooling2D\n",
    "from sklearn.model_selection import train_test_split\n",
    "import os\n",
    "import cv2\n",
    "import matplotlib.pyplot as plt"
   ]
  },
  {
   "cell_type": "code",
   "execution_count": 33,
   "id": "036c0318-88a2-4a89-9ed7-dcd8966b993d",
   "metadata": {
    "tags": []
   },
   "outputs": [
    {
     "data": {
      "text/plain": [
       "<matplotlib.image.AxesImage at 0x179e9af0250>"
      ]
     },
     "execution_count": 33,
     "metadata": {},
     "output_type": "execute_result"
    },
    {
     "data": {
      "image/png": "[encoded data removed]",
      "text/plain": [
       "<Figure size 640x480 with 1 Axes>"
      ]
     },
     "metadata": {},
     "output_type": "display_data"
    }
   ],
   "source": [
    "img_path = 'Ex_Files_Computer_Vision_Deep_Dive_in_Python/fingers/test/000e7aa6-100b-4c6b-9ff0-e7a8e53e4465_5L.png'\n",
    "img = cv2.imread(img_path, cv2.IMREAD_GRAYSCALE)\n",
    "\n",
    "_, img_thresh = cv2.threshold(img, 127, 255, cv2.THRESH_BINARY)\n",
    "\n",
    "plt.imshow(img_thresh, cmap='gray')"
   ]
  },
  {
   "cell_type": "code",
   "execution_count": 70,
   "id": "3de5363f-f9d8-40ad-97e4-bd19d8d1c1e7",
   "metadata": {
    "tags": []
   },
   "outputs": [
    {
     "data": {
      "text/plain": [
       "(21600, 128, 128, 1)"
      ]
     },
     "execution_count": 70,
     "metadata": {},
     "output_type": "execute_result"
    }
   ],
   "source": [
    "path = 'Ex_Files_Computer_Vision_Deep_Dive_in_Python/fingers/'\n",
    "folders = ['train','test']\n",
    "classes = ['0','1','2','3','4','5']\n",
    "\n",
    "images = []\n",
    "labels = []\n",
    "\n",
    "for folder in folders:\n",
    "    folder_dir = os.path.join(path,folder)\n",
    "    for file in os.listdir(folder_dir):\n",
    "        img_path = os.path.join(folder_dir,file)\n",
    "        \n",
    "        img = cv2.imread(img_path, cv2.IMREAD_GRAYSCALE)\n",
    "        ## no need to resize, all 128x128\n",
    "        \n",
    "        img_thresh = np.expand_dims(img, axis=-1)\n",
    "        \n",
    "        label = int(file.split('_')[-1][0])\n",
    "        \n",
    "        images.append(img_thresh)\n",
    "        labels.append(label)\n",
    "        \n",
    "\n",
    "images = np.array(images)\n",
    "labels = np.array(labels)\n",
    "    \n",
    "images.shape"
   ]
  },
  {
   "cell_type": "code",
   "execution_count": 71,
   "id": "f6267cb8-bd00-4d01-9aeb-9f7e884273aa",
   "metadata": {
    "tags": []
   },
   "outputs": [
    {
     "name": "stdout",
     "output_type": "stream",
     "text": [
      "(17280, 128, 128, 1)\n",
      "(4320, 128, 128, 1)\n"
     ]
    }
   ],
   "source": [
    "x_train, x_test, y_train, y_test = train_test_split(images, labels, test_size = 0.2, random_state = 42, shuffle=True)\n",
    "\n",
    "print(x_train.shape)\n",
    "print(x_test.shape)"
   ]
  },
  {
   "cell_type": "code",
   "execution_count": 88,
   "id": "7ba67e03-ffe9-41f0-bda0-a969af0d54e7",
   "metadata": {
    "tags": []
   },
   "outputs": [],
   "source": [
    "## Data Augmentation time\n",
    "from tensorflow.keras.preprocessing.image import ImageDataGenerator\n",
    "from tensorflow.keras.callbacks import EarlyStopping\n",
    "\n",
    "train_data_augmentation = ImageDataGenerator(rescale = 1/255,rotation_range=15,\n",
    "    width_shift_range=0.1,\n",
    "    height_shift_range=0.1,\n",
    "    shear_range=0.1,\n",
    "    zoom_range=0.1,\n",
    "    horizontal_flip=True,\n",
    "    fill_mode='nearest')\n",
    "\n",
    "test_data_augmentation = ImageDataGenerator(rescale = 1/255)\n",
    "\n",
    "train_gen = train_data_augmentation.flow(x_train,y_train,batch_size = 32, shuffle=True)\n",
    "test_gen = test_data_augmentation.flow(x_test,y_test,batch_size = 32)"
   ]
  },
  {
   "cell_type": "code",
   "execution_count": 94,
   "id": "0cf69c8a-bc1c-4c00-89d5-eb53ffc52137",
   "metadata": {
    "tags": []
   },
   "outputs": [
    {
     "data": {
      "text/html": [
       "<pre style=\"white-space:pre;overflow-x:auto;line-height:normal;font-family:Menlo,'DejaVu Sans Mono',consolas,'Courier New',monospace\"><span style=\"font-weight: bold\">Model: \"sequential_7\"</span>\n",
       "</pre>\n"
      ],
      "text/plain": [
       "\u001b[1mModel: \"sequential_7\"\u001b[0m\n"
      ]
     },
     "metadata": {},
     "output_type": "display_data"
    },
    {
     "data": {
      "text/html": [
       "<pre style=\"white-space:pre;overflow-x:auto;line-height:normal;font-family:Menlo,'DejaVu Sans Mono',consolas,'Courier New',monospace\">┏━━━━━━━━━━━━━━━━━━━━━━━━━━━━━━━━━┳━━━━━━━━━━━━━━━━━━━━━━━━┳━━━━━━━━━━━━━━━┓\n",
       "┃<span style=\"font-weight: bold\"> Layer (type)                    </span>┃<span style=\"font-weight: bold\"> Output Shape           </span>┃<span style=\"font-weight: bold\">       Param # </span>┃\n",
       "┡━━━━━━━━━━━━━━━━━━━━━━━━━━━━━━━━━╇━━━━━━━━━━━━━━━━━━━━━━━━╇━━━━━━━━━━━━━━━┩\n",
       "│ conv2d_21 (<span style=\"color: #0087ff; text-decoration-color: #0087ff\">Conv2D</span>)              │ (<span style=\"color: #00d7ff; text-decoration-color: #00d7ff\">None</span>, <span style=\"color: #00af00; text-decoration-color: #00af00\">126</span>, <span style=\"color: #00af00; text-decoration-color: #00af00\">126</span>, <span style=\"color: #00af00; text-decoration-color: #00af00\">32</span>)   │           <span style=\"color: #00af00; text-decoration-color: #00af00\">320</span> │\n",
       "├─────────────────────────────────┼────────────────────────┼───────────────┤\n",
       "│ max_pooling2d_21 (<span style=\"color: #0087ff; text-decoration-color: #0087ff\">MaxPooling2D</span>) │ (<span style=\"color: #00d7ff; text-decoration-color: #00d7ff\">None</span>, <span style=\"color: #00af00; text-decoration-color: #00af00\">63</span>, <span style=\"color: #00af00; text-decoration-color: #00af00\">63</span>, <span style=\"color: #00af00; text-decoration-color: #00af00\">32</span>)     │             <span style=\"color: #00af00; text-decoration-color: #00af00\">0</span> │\n",
       "├─────────────────────────────────┼────────────────────────┼───────────────┤\n",
       "│ conv2d_22 (<span style=\"color: #0087ff; text-decoration-color: #0087ff\">Conv2D</span>)              │ (<span style=\"color: #00d7ff; text-decoration-color: #00d7ff\">None</span>, <span style=\"color: #00af00; text-decoration-color: #00af00\">61</span>, <span style=\"color: #00af00; text-decoration-color: #00af00\">61</span>, <span style=\"color: #00af00; text-decoration-color: #00af00\">64</span>)     │        <span style=\"color: #00af00; text-decoration-color: #00af00\">18,496</span> │\n",
       "├─────────────────────────────────┼────────────────────────┼───────────────┤\n",
       "│ max_pooling2d_22 (<span style=\"color: #0087ff; text-decoration-color: #0087ff\">MaxPooling2D</span>) │ (<span style=\"color: #00d7ff; text-decoration-color: #00d7ff\">None</span>, <span style=\"color: #00af00; text-decoration-color: #00af00\">30</span>, <span style=\"color: #00af00; text-decoration-color: #00af00\">30</span>, <span style=\"color: #00af00; text-decoration-color: #00af00\">64</span>)     │             <span style=\"color: #00af00; text-decoration-color: #00af00\">0</span> │\n",
       "├─────────────────────────────────┼────────────────────────┼───────────────┤\n",
       "│ conv2d_23 (<span style=\"color: #0087ff; text-decoration-color: #0087ff\">Conv2D</span>)              │ (<span style=\"color: #00d7ff; text-decoration-color: #00d7ff\">None</span>, <span style=\"color: #00af00; text-decoration-color: #00af00\">28</span>, <span style=\"color: #00af00; text-decoration-color: #00af00\">28</span>, <span style=\"color: #00af00; text-decoration-color: #00af00\">64</span>)     │        <span style=\"color: #00af00; text-decoration-color: #00af00\">36,928</span> │\n",
       "├─────────────────────────────────┼────────────────────────┼───────────────┤\n",
       "│ max_pooling2d_23 (<span style=\"color: #0087ff; text-decoration-color: #0087ff\">MaxPooling2D</span>) │ (<span style=\"color: #00d7ff; text-decoration-color: #00d7ff\">None</span>, <span style=\"color: #00af00; text-decoration-color: #00af00\">14</span>, <span style=\"color: #00af00; text-decoration-color: #00af00\">14</span>, <span style=\"color: #00af00; text-decoration-color: #00af00\">64</span>)     │             <span style=\"color: #00af00; text-decoration-color: #00af00\">0</span> │\n",
       "├─────────────────────────────────┼────────────────────────┼───────────────┤\n",
       "│ flatten_7 (<span style=\"color: #0087ff; text-decoration-color: #0087ff\">Flatten</span>)             │ (<span style=\"color: #00d7ff; text-decoration-color: #00d7ff\">None</span>, <span style=\"color: #00af00; text-decoration-color: #00af00\">12544</span>)          │             <span style=\"color: #00af00; text-decoration-color: #00af00\">0</span> │\n",
       "├─────────────────────────────────┼────────────────────────┼───────────────┤\n",
       "│ dense_14 (<span style=\"color: #0087ff; text-decoration-color: #0087ff\">Dense</span>)                │ (<span style=\"color: #00d7ff; text-decoration-color: #00d7ff\">None</span>, <span style=\"color: #00af00; text-decoration-color: #00af00\">128</span>)            │     <span style=\"color: #00af00; text-decoration-color: #00af00\">1,605,760</span> │\n",
       "├─────────────────────────────────┼────────────────────────┼───────────────┤\n",
       "│ dropout_7 (<span style=\"color: #0087ff; text-decoration-color: #0087ff\">Dropout</span>)             │ (<span style=\"color: #00d7ff; text-decoration-color: #00d7ff\">None</span>, <span style=\"color: #00af00; text-decoration-color: #00af00\">128</span>)            │             <span style=\"color: #00af00; text-decoration-color: #00af00\">0</span> │\n",
       "├─────────────────────────────────┼────────────────────────┼───────────────┤\n",
       "│ dense_15 (<span style=\"color: #0087ff; text-decoration-color: #0087ff\">Dense</span>)                │ (<span style=\"color: #00d7ff; text-decoration-color: #00d7ff\">None</span>, <span style=\"color: #00af00; text-decoration-color: #00af00\">6</span>)              │           <span style=\"color: #00af00; text-decoration-color: #00af00\">774</span> │\n",
       "└─────────────────────────────────┴────────────────────────┴───────────────┘\n",
       "</pre>\n"
      ],
      "text/plain": [
       "┏━━━━━━━━━━━━━━━━━━━━━━━━━━━━━━━━━┳━━━━━━━━━━━━━━━━━━━━━━━━┳━━━━━━━━━━━━━━━┓\n",
       "┃\u001b[1m \u001b[0m\u001b[1mLayer (type)                   \u001b[0m\u001b[1m \u001b[0m┃\u001b[1m \u001b[0m\u001b[1mOutput Shape          \u001b[0m\u001b[1m \u001b[0m┃\u001b[1m \u001b[0m\u001b[1m      Param #\u001b[0m\u001b[1m \u001b[0m┃\n",
       "┡━━━━━━━━━━━━━━━━━━━━━━━━━━━━━━━━━╇━━━━━━━━━━━━━━━━━━━━━━━━╇━━━━━━━━━━━━━━━┩\n",
       "│ conv2d_21 (\u001b[38;5;33mConv2D\u001b[0m)              │ (\u001b[38;5;45mNone\u001b[0m, \u001b[38;5;34m126\u001b[0m, \u001b[38;5;34m126\u001b[0m, \u001b[38;5;34m32\u001b[0m)   │           \u001b[38;5;34m320\u001b[0m │\n",
       "├─────────────────────────────────┼────────────────────────┼───────────────┤\n",
       "│ max_pooling2d_21 (\u001b[38;5;33mMaxPooling2D\u001b[0m) │ (\u001b[38;5;45mNone\u001b[0m, \u001b[38;5;34m63\u001b[0m, \u001b[38;5;34m63\u001b[0m, \u001b[38;5;34m32\u001b[0m)     │             \u001b[38;5;34m0\u001b[0m │\n",
       "├─────────────────────────────────┼────────────────────────┼───────────────┤\n",
       "│ conv2d_22 (\u001b[38;5;33mConv2D\u001b[0m)              │ (\u001b[38;5;45mNone\u001b[0m, \u001b[38;5;34m61\u001b[0m, \u001b[38;5;34m61\u001b[0m, \u001b[38;5;34m64\u001b[0m)     │        \u001b[38;5;34m18,496\u001b[0m │\n",
       "├─────────────────────────────────┼────────────────────────┼───────────────┤\n",
       "│ max_pooling2d_22 (\u001b[38;5;33mMaxPooling2D\u001b[0m) │ (\u001b[38;5;45mNone\u001b[0m, \u001b[38;5;34m30\u001b[0m, \u001b[38;5;34m30\u001b[0m, \u001b[38;5;34m64\u001b[0m)     │             \u001b[38;5;34m0\u001b[0m │\n",
       "├─────────────────────────────────┼────────────────────────┼───────────────┤\n",
       "│ conv2d_23 (\u001b[38;5;33mConv2D\u001b[0m)              │ (\u001b[38;5;45mNone\u001b[0m, \u001b[38;5;34m28\u001b[0m, \u001b[38;5;34m28\u001b[0m, \u001b[38;5;34m64\u001b[0m)     │        \u001b[38;5;34m36,928\u001b[0m │\n",
       "├─────────────────────────────────┼────────────────────────┼───────────────┤\n",
       "│ max_pooling2d_23 (\u001b[38;5;33mMaxPooling2D\u001b[0m) │ (\u001b[38;5;45mNone\u001b[0m, \u001b[38;5;34m14\u001b[0m, \u001b[38;5;34m14\u001b[0m, \u001b[38;5;34m64\u001b[0m)     │             \u001b[38;5;34m0\u001b[0m │\n",
       "├─────────────────────────────────┼────────────────────────┼───────────────┤\n",
       "│ flatten_7 (\u001b[38;5;33mFlatten\u001b[0m)             │ (\u001b[38;5;45mNone\u001b[0m, \u001b[38;5;34m12544\u001b[0m)          │             \u001b[38;5;34m0\u001b[0m │\n",
       "├─────────────────────────────────┼────────────────────────┼───────────────┤\n",
       "│ dense_14 (\u001b[38;5;33mDense\u001b[0m)                │ (\u001b[38;5;45mNone\u001b[0m, \u001b[38;5;34m128\u001b[0m)            │     \u001b[38;5;34m1,605,760\u001b[0m │\n",
       "├─────────────────────────────────┼────────────────────────┼───────────────┤\n",
       "│ dropout_7 (\u001b[38;5;33mDropout\u001b[0m)             │ (\u001b[38;5;45mNone\u001b[0m, \u001b[38;5;34m128\u001b[0m)            │             \u001b[38;5;34m0\u001b[0m │\n",
       "├─────────────────────────────────┼────────────────────────┼───────────────┤\n",
       "│ dense_15 (\u001b[38;5;33mDense\u001b[0m)                │ (\u001b[38;5;45mNone\u001b[0m, \u001b[38;5;34m6\u001b[0m)              │           \u001b[38;5;34m774\u001b[0m │\n",
       "└─────────────────────────────────┴────────────────────────┴───────────────┘\n"
      ]
     },
     "metadata": {},
     "output_type": "display_data"
    },
    {
     "data": {
      "text/html": [
       "<pre style=\"white-space:pre;overflow-x:auto;line-height:normal;font-family:Menlo,'DejaVu Sans Mono',consolas,'Courier New',monospace\"><span style=\"font-weight: bold\"> Total params: </span><span style=\"color: #00af00; text-decoration-color: #00af00\">1,662,278</span> (6.34 MB)\n",
       "</pre>\n"
      ],
      "text/plain": [
       "\u001b[1m Total params: \u001b[0m\u001b[38;5;34m1,662,278\u001b[0m (6.34 MB)\n"
      ]
     },
     "metadata": {},
     "output_type": "display_data"
    },
    {
     "data": {
      "text/html": [
       "<pre style=\"white-space:pre;overflow-x:auto;line-height:normal;font-family:Menlo,'DejaVu Sans Mono',consolas,'Courier New',monospace\"><span style=\"font-weight: bold\"> Trainable params: </span><span style=\"color: #00af00; text-decoration-color: #00af00\">1,662,278</span> (6.34 MB)\n",
       "</pre>\n"
      ],
      "text/plain": [
       "\u001b[1m Trainable params: \u001b[0m\u001b[38;5;34m1,662,278\u001b[0m (6.34 MB)\n"
      ]
     },
     "metadata": {},
     "output_type": "display_data"
    },
    {
     "data": {
      "text/html": [
       "<pre style=\"white-space:pre;overflow-x:auto;line-height:normal;font-family:Menlo,'DejaVu Sans Mono',consolas,'Courier New',monospace\"><span style=\"font-weight: bold\"> Non-trainable params: </span><span style=\"color: #00af00; text-decoration-color: #00af00\">0</span> (0.00 B)\n",
       "</pre>\n"
      ],
      "text/plain": [
       "\u001b[1m Non-trainable params: \u001b[0m\u001b[38;5;34m0\u001b[0m (0.00 B)\n"
      ]
     },
     "metadata": {},
     "output_type": "display_data"
    }
   ],
   "source": [
    "## model building\n",
    "from tensorflow.keras.optimizers import Adam\n",
    "\n",
    "model = Sequential()\n",
    "\n",
    "model.add(Conv2D(32,(3,3),activation = 'relu', input_shape = (128,128,1)))\n",
    "model.add(MaxPooling2D(pool_size = (2,2)))\n",
    "\n",
    "model.add(Conv2D(64,(3,3),activation = 'relu'))\n",
    "model.add(MaxPooling2D(pool_size = (2,2)))\n",
    "\n",
    "model.add(Conv2D(64,(3,3),activation = 'relu'))\n",
    "model.add(MaxPooling2D(pool_size = (2,2)))\n",
    "\n",
    "model.add(Flatten())\n",
    "\n",
    "model.add(Dense(units = 128, activation = 'relu'))\n",
    "model.add(Dropout(.50))\n",
    "model.add(Dense(6,activation = 'softmax'))\n",
    "\n",
    "## Optimizer and Early Stop\n",
    "optimizer = Adam(learning_rate=0.001)\n",
    "early_stop = EarlyStopping(monitor='val_loss', patience=3, restore_best_weights=True)\n",
    "\n",
    "model.compile(optimizer=optimizer, loss='sparse_categorical_crossentropy', metrics=['accuracy'])\n",
    "\n",
    "model.summary()"
   ]
  },
  {
   "cell_type": "code",
   "execution_count": 95,
   "id": "8566254d-1a9d-4761-9ade-652754c3c9af",
   "metadata": {
    "tags": []
   },
   "outputs": [
    {
     "name": "stdout",
     "output_type": "stream",
     "text": [
      "Epoch 1/10\n",
      "\u001b[1m540/540\u001b[0m \u001b[32m━━━━━━━━━━━━━━━━━━━━\u001b[0m\u001b[37m\u001b[0m \u001b[1m209s\u001b[0m 380ms/step - accuracy: 0.6625 - loss: 0.8346 - val_accuracy: 0.9988 - val_loss: 0.0237\n",
      "Epoch 2/10\n",
      "\u001b[1m540/540\u001b[0m \u001b[32m━━━━━━━━━━━━━━━━━━━━\u001b[0m\u001b[37m\u001b[0m \u001b[1m260s\u001b[0m 377ms/step - accuracy: 0.9501 - loss: 0.1351 - val_accuracy: 0.9986 - val_loss: 0.0045\n",
      "Epoch 3/10\n",
      "\u001b[1m540/540\u001b[0m \u001b[32m━━━━━━━━━━━━━━━━━━━━\u001b[0m\u001b[37m\u001b[0m \u001b[1m208s\u001b[0m 385ms/step - accuracy: 0.9697 - loss: 0.0900 - val_accuracy: 0.9991 - val_loss: 0.0033\n",
      "Epoch 4/10\n",
      "\u001b[1m540/540\u001b[0m \u001b[32m━━━━━━━━━━━━━━━━━━━━\u001b[0m\u001b[37m\u001b[0m \u001b[1m206s\u001b[0m 381ms/step - accuracy: 0.9733 - loss: 0.0745 - val_accuracy: 0.9998 - val_loss: 8.3014e-04\n",
      "Epoch 5/10\n",
      "\u001b[1m540/540\u001b[0m \u001b[32m━━━━━━━━━━━━━━━━━━━━\u001b[0m\u001b[37m\u001b[0m \u001b[1m205s\u001b[0m 378ms/step - accuracy: 0.9764 - loss: 0.0608 - val_accuracy: 0.9984 - val_loss: 0.0055\n",
      "Epoch 6/10\n",
      "\u001b[1m540/540\u001b[0m \u001b[32m━━━━━━━━━━━━━━━━━━━━\u001b[0m\u001b[37m\u001b[0m \u001b[1m207s\u001b[0m 381ms/step - accuracy: 0.9800 - loss: 0.0543 - val_accuracy: 0.9995 - val_loss: 0.0015\n",
      "Epoch 7/10\n",
      "\u001b[1m540/540\u001b[0m \u001b[32m━━━━━━━━━━━━━━━━━━━━\u001b[0m\u001b[37m\u001b[0m \u001b[1m204s\u001b[0m 378ms/step - accuracy: 0.9846 - loss: 0.0396 - val_accuracy: 0.9984 - val_loss: 0.0095\n"
     ]
    }
   ],
   "source": [
    "history = model.fit(train_gen, validation_data=test_gen, epochs=10, callbacks=[early_stop])"
   ]
  },
  {
   "cell_type": "code",
   "execution_count": 96,
   "id": "6d551b6b-fa03-40ad-b5ad-6729095c6225",
   "metadata": {
    "tags": []
   },
   "outputs": [
    {
     "name": "stdout",
     "output_type": "stream",
     "text": [
      "\u001b[1m540/540\u001b[0m \u001b[32m━━━━━━━━━━━━━━━━━━━━\u001b[0m\u001b[37m\u001b[0m \u001b[1m59s\u001b[0m 108ms/step - accuracy: 0.9416 - loss: 18.8445\n",
      "0.9372684955596924\n"
     ]
    }
   ],
   "source": [
    "_, train_acc = model.evaluate(x_train,y_train)\n",
    "print(train_acc)"
   ]
  },
  {
   "cell_type": "code",
   "execution_count": 97,
   "id": "17a25a02-6620-483c-ab94-6b49f956265d",
   "metadata": {
    "tags": []
   },
   "outputs": [
    {
     "name": "stdout",
     "output_type": "stream",
     "text": [
      "\u001b[1m135/135\u001b[0m \u001b[32m━━━━━━━━━━━━━━━━━━━━\u001b[0m\u001b[37m\u001b[0m \u001b[1m13s\u001b[0m 96ms/step - accuracy: 0.9356 - loss: 17.8565\n",
      "0.9400463104248047\n"
     ]
    }
   ],
   "source": [
    "_, test_acc = model.evaluate(x_test,y_test)\n",
    "print(test_acc)"
   ]
  },
  {
   "cell_type": "code",
   "execution_count": 149,
   "id": "d3da86d4-281c-4895-9823-3f2fec640916",
   "metadata": {
    "tags": []
   },
   "outputs": [],
   "source": [
    "target_size = 128\n",
    "\n",
    "def resize_with_aspect_ratio(image, target_size):\n",
    "    # Get original dimensions\n",
    "    original_height, original_width = image.shape[:2]\n",
    "    \n",
    "    # Calculate the aspect ratio\n",
    "    aspect_ratio = original_width / original_height\n",
    "    \n",
    "    # Calculate new dimensions based on the target size\n",
    "    if original_width > original_height:\n",
    "        new_width = target_size\n",
    "        new_height = int(target_size / aspect_ratio)\n",
    "    else:\n",
    "        new_height = target_size\n",
    "        new_width = int(target_size * aspect_ratio)\n",
    "    \n",
    "    # Resize the image\n",
    "    resized_image = cv2.resize(image, (new_width, new_height))\n",
    "\n",
    "    # Create a new image with the target size, filled with black (or any other color)\n",
    "    padded_image = np.zeros((target_size, target_size), dtype=np.uint8)\n",
    "\n",
    "    # Calculate padding\n",
    "    x_offset = (target_size - new_width) // 2\n",
    "    y_offset = (target_size - new_height) // 2\n",
    "\n",
    "    # Place the resized image in the middle of the padded image\n",
    "    padded_image[y_offset:y_offset+new_height, x_offset:x_offset+new_width] = resized_image\n",
    "    \n",
    "    return padded_image\n",
    "\n",
    "def preprocess_image(img_path, target_size=128):\n",
    "    # Read the image in grayscale mode\n",
    "    img = cv2.imread(img_path, cv2.IMREAD_GRAYSCALE)\n",
    "\n",
    "    # calculate the mean intensity\n",
    "    mean_intensity = np.mean(img)\n",
    "\n",
    "    #invert image based off of background\n",
    "    if mean_intensity > 127:\n",
    "        img = cv2.bitwise_not(img)\n",
    "\n",
    "    # gaussian blur\n",
    "    img = cv2.GaussianBlur(img, (5, 5), 0)\n",
    "\n",
    "    # adaptive thresholding \n",
    "    _, img_thresh = cv2.threshold(img, 0, 255, cv2.THRESH_BINARY + cv2.THRESH_OTSU)\n",
    "\n",
    "    # resize img\n",
    "    img_thresh = resize_with_aspect_ratio(img_thresh, target_size)\n",
    "\n",
    "    # add a channel dimension for the grayscale image\n",
    "    img_thresh = np.expand_dims(img_thresh, axis=-1)\n",
    "\n",
    "    img_thresh = img_thresh / 255.0\n",
    "\n",
    "    # add a batch dimension since the model expects input in batches\n",
    "    img_thresh = np.expand_dims(img_thresh, axis=0)\n",
    "\n",
    "    return img_thresh\n",
    "\n",
    "\n",
    "# additional func that shows img\n",
    "def preprocess_img_for_show(img_path):\n",
    "    \n",
    "    img = cv2.imread(img_path, cv2.IMREAD_GRAYSCALE)\n",
    "\n",
    "    mean_intensity = np.mean(img)\n",
    "\n",
    "    if mean_intensity > 127:\n",
    "        img = cv2.bitwise_not(img)\n",
    "\n",
    "\n",
    "    _, img_thresh = cv2.threshold(img, 0, 255, cv2.THRESH_BINARY + cv2.THRESH_OTSU)\n",
    "\n",
    "    img_thresh = resize_with_aspect_ratio(img_thresh, target_size)\n",
    "\n",
    " \n",
    "    img_thresh = cv2.resize(img_thresh, (128, 128))\n",
    "    \n",
    "    mg_thresh = resize_with_aspect_ratio(img_thresh, target_size)\n",
    "    \n",
    "    return img_thresh"
   ]
  },
  {
   "cell_type": "code",
   "execution_count": 160,
   "id": "5d66c05d-0b1b-4fbd-96ee-2d05a8551ce6",
   "metadata": {
    "tags": []
   },
   "outputs": [
    {
     "name": "stdout",
     "output_type": "stream",
     "text": [
      "\u001b[1m1/1\u001b[0m \u001b[32m━━━━━━━━━━━━━━━━━━━━\u001b[0m\u001b[37m\u001b[0m \u001b[1m0s\u001b[0m 33ms/step\n",
      "The model predicts you are holding up 5 finger(s).\n"
     ]
    }
   ],
   "source": [
    "# testing different images\n",
    "\n",
    "path = 'Ex_Files_Computer_Vision_Deep_Dive_in_Python/testingImages/2018-10-29-open-hand.jpg'\n",
    "\n",
    "img = preprocess_image(path)\n",
    "\n",
    "prediction_probabilities = model.predict(img)\n",
    "\n",
    "predicted_fingers = np.argmax(prediction_probabilities)\n",
    "\n",
    "print(f\"The model predicts you are holding up {predicted_fingers} finger(s).\")\n"
   ]
  },
  {
   "cell_type": "code",
   "execution_count": 161,
   "id": "4b131364-e051-4471-9f8d-943fdd1a866f",
   "metadata": {
    "tags": []
   },
   "outputs": [
    {
     "name": "stdout",
     "output_type": "stream",
     "text": [
      "\u001b[1m1/1\u001b[0m \u001b[32m━━━━━━━━━━━━━━━━━━━━\u001b[0m\u001b[37m\u001b[0m \u001b[1m0s\u001b[0m 32ms/step\n",
      "The model predicts you are holding up 0 finger(s).\n"
     ]
    }
   ],
   "source": [
    "path = 'Ex_Files_Computer_Vision_Deep_Dive_in_Python/testingImages/closed_fist.jpg'\n",
    "\n",
    "img = preprocess_image(path)\n",
    "\n",
    "prediction_probabilities = model.predict(img)\n",
    "\n",
    "predicted_fingers = np.argmax(prediction_probabilities)\n",
    "\n",
    "print(f\"The model predicts you are holding up {predicted_fingers} finger(s).\")"
   ]
  },
  {
   "cell_type": "code",
   "execution_count": 113,
   "id": "bef790c5-c8b9-4c0e-a407-cd54314b7be4",
   "metadata": {
    "tags": []
   },
   "outputs": [
    {
     "name": "stdout",
     "output_type": "stream",
     "text": [
      "\u001b[1m1/1\u001b[0m \u001b[32m━━━━━━━━━━━━━━━━━━━━\u001b[0m\u001b[37m\u001b[0m \u001b[1m0s\u001b[0m 41ms/step\n",
      "The model predicts you are holding up 3 finger(s).\n"
     ]
    },
    {
     "data": {
      "image/png": "[encoded data removed]",
      "text/plain": [
       "<Figure size 640x480 with 1 Axes>"
      ]
     },
     "metadata": {},
     "output_type": "display_data"
    }
   ],
   "source": [
    "path = 'Ex_Files_Computer_Vision_Deep_Dive_in_Python/fingers/test/0027029b-4c3c-4785-bc1b-b8141331a108_3R.png'\n",
    "\n",
    "img = cv2.imread(path, cv2.IMREAD_GRAYSCALE)\n",
    "\n",
    "_, img = cv2.threshold(img, 127, 255, cv2.THRESH_BINARY)\n",
    "\n",
    "img = cv2.resize(img, (128, 128))\n",
    "\n",
    "plt.imshow(img, cmap = 'gray')\n",
    "\n",
    "img = np.expand_dims(img, axis=-1)\n",
    "\n",
    "img = img / 255.0\n",
    "\n",
    "img = np.expand_dims(img, axis=0)\n",
    "\n",
    "prediction_probabilities = model.predict(img)\n",
    "\n",
    "predicted_fingers = np.argmax(prediction_probabilities)\n",
    "\n",
    "print(f\"The model predicts you are holding up {predicted_fingers} finger(s).\")"
   ]
  },
  {
   "cell_type": "code",
   "execution_count": 1,
   "id": "0e81c84a-dca6-445e-a75c-fdc2cdb968ea",
   "metadata": {
    "tags": []
   },
   "outputs": [
    {
     "ename": "NameError",
     "evalue": "name 'cv2' is not defined",
     "output_type": "error",
     "traceback": [
      "\u001b[1;31m---------------------------------------------------------------------------\u001b[0m",
      "\u001b[1;31mNameError\u001b[0m                                 Traceback (most recent call last)",
      "Cell \u001b[1;32mIn[1], line 4\u001b[0m\n\u001b[0;32m      1\u001b[0m path \u001b[38;5;241m=\u001b[39m \u001b[38;5;124m'\u001b[39m\u001b[38;5;124mEx_Files_Computer_Vision_Deep_Dive_in_Python/fingers/test/0027029b-4c3c-4785-bc1b-b8141331a108_3R.png\u001b[39m\u001b[38;5;124m'\u001b[39m\n\u001b[0;32m      3\u001b[0m \u001b[38;5;66;03m# Read the image in grayscale mode\u001b[39;00m\n\u001b[1;32m----> 4\u001b[0m img \u001b[38;5;241m=\u001b[39m cv2\u001b[38;5;241m.\u001b[39mimread(path, cv2\u001b[38;5;241m.\u001b[39mIMREAD_GRAYSCALE)\n\u001b[0;32m      6\u001b[0m \u001b[38;5;66;03m# Resize the image to match the input size expected by the model\u001b[39;00m\n\u001b[0;32m      7\u001b[0m img \u001b[38;5;241m=\u001b[39m cv2\u001b[38;5;241m.\u001b[39mresize(img, (\u001b[38;5;241m128\u001b[39m, \u001b[38;5;241m128\u001b[39m))\n",
      "\u001b[1;31mNameError\u001b[0m: name 'cv2' is not defined"
     ]
    }
   ],
   "source": [
    "path = 'Ex_Files_Computer_Vision_Deep_Dive_in_Python/fingers/test/0027029b-4c3c-4785-bc1b-b8141331a108_3R.png'\n",
    "\n",
    "img = cv2.imread(path, cv2.IMREAD_GRAYSCALE)\n",
    "\n",
    "img = cv2.resize(img, (128, 128))\n",
    "\n",
    "img = cv2.GaussianBlur(img, (5, 5), 0)\n",
    "\n",
    "img = cv2.adaptiveThreshold(img, 255, cv2.ADAPTIVE_THRESH_GAUSSIAN_C,\n",
    "                                           cv2.THRESH_BINARY, 11, 2)\n",
    "\n",
    "plt.imshow(img, cmap = 'gray')"
   ]
  },
  {
   "cell_type": "code",
   "execution_count": 159,
   "id": "bd448902-cde1-4ead-9f66-3ea8716f2d57",
   "metadata": {
    "tags": []
   },
   "outputs": [
    {
     "name": "stdout",
     "output_type": "stream",
     "text": [
      "\u001b[1m1/1\u001b[0m \u001b[32m━━━━━━━━━━━━━━━━━━━━\u001b[0m\u001b[37m\u001b[0m \u001b[1m0s\u001b[0m 48ms/step\n",
      "The model predicts you are holding up 4 finger(s).\n"
     ]
    },
    {
     "data": {
      "image/png": "[encoded data removed]",
      "text/plain": [
       "<Figure size 640x480 with 1 Axes>"
      ]
     },
     "metadata": {},
     "output_type": "display_data"
    }
   ],
   "source": [
    "path = 'Ex_Files_Computer_Vision_Deep_Dive_in_Python/fingers/test/0a80ac03-5e16-4f79-8282-eba2abe1096e_4R.png'\n",
    "\n",
    "## Ex_Files_Computer_Vision_Deep_Dive_in_Python/fingers/test/0a80ac03-5e16-4f79-8282-eba2abe1096e_4R.png\n",
    "\n",
    "img = preprocess_image(path)\n",
    "\n",
    "img2 = preprocess_img_for_show(path)\n",
    "\n",
    "plt.imshow(img2, cmap = 'gray')\n",
    "\n",
    "prediction_probabilities = model.predict(img)\n",
    "\n",
    "predicted_fingers = np.argmax(prediction_probabilities)\n",
    "\n",
    "print(f\"The model predicts you are holding up {predicted_fingers} finger(s).\")"
   ]
  },
  {
   "cell_type": "code",
   "execution_count": 158,
   "id": "52a0a576-f84e-49bd-aea5-e9da852d27c1",
   "metadata": {
    "tags": []
   },
   "outputs": [
    {
     "name": "stdout",
     "output_type": "stream",
     "text": [
      "\u001b[1m1/1\u001b[0m \u001b[32m━━━━━━━━━━━━━━━━━━━━\u001b[0m\u001b[37m\u001b[0m \u001b[1m0s\u001b[0m 56ms/step\n",
      "The model predicts you are holding up 4 finger(s).\n"
     ]
    },
    {
     "data": {
      "image/png": "[encoded data removed]",
      "text/plain": [
       "<Figure size 640x480 with 1 Axes>"
      ]
     },
     "metadata": {},
     "output_type": "display_data"
    }
   ],
   "source": [
    "path = 'Ex_Files_Computer_Vision_Deep_Dive_in_Python/testingImages/istockphoto-96361039-612x612.jpg'\n",
    "\n",
    "## Ex_Files_Computer_Vision_Deep_Dive_in_Python/fingers/test/0a80ac03-5e16-4f79-8282-eba2abe1096e_4R.png\n",
    "\n",
    "img = preprocess_image(path)\n",
    "\n",
    "img2 = preprocess_img_for_show(path)\n",
    "\n",
    "plt.imshow(img2, cmap = 'gray')\n",
    "\n",
    "prediction_probabilities = model.predict(img)\n",
    "\n",
    "predicted_fingers = np.argmax(prediction_probabilities)\n",
    "\n",
    "print(f\"The model predicts you are holding up {predicted_fingers} finger(s).\")"
   ]
  },
  {
   "cell_type": "code",
   "execution_count": 157,
   "id": "0c700d1c",
   "metadata": {
    "tags": []
   },
   "outputs": [
    {
     "name": "stderr",
     "output_type": "stream",
     "text": [
      "WARNING:absl:You are saving your model as an HDF5 file via `model.save()` or `keras.saving.save_model(model)`. This file format is considered legacy. We recommend using instead the native Keras format, e.g. `model.save('my_model.keras')` or `keras.saving.save_model(model, 'my_model.keras')`. \n",
      "WARNING:absl:Compiled the loaded model, but the compiled metrics have yet to be built. `model.compile_metrics` will be empty until you train or evaluate the model.\n"
     ]
    },
    {
     "name": "stdout",
     "output_type": "stream",
     "text": [
      "\u001b[1m135/135\u001b[0m \u001b[32m━━━━━━━━━━━━━━━━━━━━\u001b[0m\u001b[37m\u001b[0m \u001b[1m4s\u001b[0m 29ms/step - accuracy: 0.9356 - loss: 17.8565\n",
      "Loaded model accuracy: 0.9400463104248047\n"
     ]
    }
   ],
   "source": [
    "from tensorflow.keras.models import load_model\n",
    "\n",
    "\n",
    "# save the entire model\n",
    "model.save('CNNFingerAttempt3.h5')\n",
    "\n",
    "# load the model back to test\n",
    "loaded_model = load_model('CNNFingerAttempt3.h5')\n",
    "\n",
    "# test the loaded model\n",
    "loss, accuracy = loaded_model.evaluate(x_test, y_test)\n",
    "print(f'Loaded model accuracy: {accuracy}')"
   ]
  },
  {
   "cell_type": "code",
   "execution_count": null,
   "id": "eb514846",
   "metadata": {},
   "outputs": [],
   "source": []
  }
 ],
 "metadata": {
  "kernelspec": {
   "display_name": "Python 3 (ipykernel)",
   "language": "python",
   "name": "python3"
  },
  "language_info": {
   "codemirror_mode": {
    "name": "ipython",
    "version": 3
   },
   "file_extension": ".py",
   "mimetype": "text/x-python",
   "name": "python",
   "nbconvert_exporter": "python",
   "pygments_lexer": "ipython3",
   "version": "3.11.4"
  }
 },
 "nbformat": 4,
 "nbformat_minor": 5
}
